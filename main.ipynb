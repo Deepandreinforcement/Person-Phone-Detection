{
 "cells": [
  {
   "cell_type": "code",
   "execution_count": 1,
   "id": "e25ca670",
   "metadata": {},
   "outputs": [],
   "source": [
    "# Kütüphaneleri yüklüyoruz.\n",
    "import cv2\n",
    "import numpy as np"
   ]
  },
  {
   "cell_type": "code",
   "execution_count": 2,
   "id": "f000caba",
   "metadata": {},
   "outputs": [],
   "source": [
    "from ultralytics import YOLO\n",
    "# Telefonu tespit eden modeli yüklüyoruz\n",
    "model = YOLO(\"yolo11l.pt\")"
   ]
  },
  {
   "cell_type": "code",
   "execution_count": 3,
   "id": "e639eb05",
   "metadata": {},
   "outputs": [],
   "source": [
    "from ultralytics import YOLO\n",
    "# İnsanın bedenindeki bölgeleri tespit eden modeli yüklüyoruz\n",
    "model2 = YOLO(\"yolo11n-pose.pt\") "
   ]
  },
  {
   "cell_type": "markdown",
   "id": "34c78512",
   "metadata": {},
   "source": [
    "Bu fonkisyon ile görüntüdeki telefonları tespit ediyoruz. Sonrasında telefonun orta noktasını bulup bunları bir listeye ekliyoruz. Birden fazla telefon olabilir."
   ]
  },
  {
   "cell_type": "code",
   "execution_count": 4,
   "id": "907bf0f9",
   "metadata": {},
   "outputs": [],
   "source": [
    "def telefontespiti(img):\n",
    "    noktaList=[]\n",
    "\n",
    "    rgb_img=cv2.cvtColor(img,cv2.COLOR_BGR2RGB)\n",
    "    results = model(rgb_img,verbose=False) \n",
    "    labels=results[0].names\n",
    "\n",
    "\n",
    "\n",
    "    for i in range(len(results[0].boxes)):\n",
    "        x1,y1,x2,y2=results[0].boxes.xyxy[i]\n",
    "        score=results[0].boxes.conf[i]\n",
    "\n",
    "        label=results[0].boxes.cls[i]\n",
    "        x1,y1,x2,y2,score,label=int(x1),int(y1),int(x2),int(y2),float(score),int(label)\n",
    "\n",
    "        name=labels[label]\n",
    "\n",
    "\n",
    "\n",
    "        if score<0.5:\n",
    "            continue\n",
    "        if name=='cell phone':\n",
    "            cx=int(x1/2+x2/2)\n",
    "            cy=int(y1/2+y2/2)\n",
    "            noktaList.append((cx,cy))\n",
    "    \n",
    "    return noktaList"
   ]
  },
  {
   "cell_type": "markdown",
   "id": "77c475a6",
   "metadata": {},
   "source": [
    "Burada insanın konumunu bölge olarak buluyoruz. Önemli nokta burada insanın telefonla konuşma ihtimali olan olan baş bölgesini bölge olarak bulmak. O yüzden ilk önce insanın tamamını region1 adlı değişkene atadım. Sonrasında omuz hizasına kadar olan bölgenin asıl bölge olmasını sağlamak için pose estimation ile 5. ve 6. noktaları gerekli konum bilgisine atadım. Birden fazla insan olabileceği için bunları bir  listeye ekledim."
   ]
  },
  {
   "cell_type": "code",
   "execution_count": 5,
   "id": "49b1a204",
   "metadata": {},
   "outputs": [],
   "source": [
    "def insantespiti(img):\n",
    "    regionList=[]\n",
    "    rgb_img=cv2.cvtColor(img,cv2.COLOR_BGR2RGB)\n",
    "    results = model2(rgb_img,verbose=False) \n",
    "    \n",
    "    for i in range(len(results[0].boxes)):\n",
    "        x1,y1,x2,y2=results[0].boxes.xyxy[i]\n",
    "        x1,y1,x2,y2=int(x1),int(y1),int(x2),int(y2)\n",
    "        region1=np.array([(x1,y1),(x2,y1),(x2,y2),(x1,y2)])\n",
    "        region1 = region1.reshape((-1,1,2))\n",
    "        regionList.append(region1)\n",
    "    \n",
    "    \n",
    "    for j,keypoints in enumerate(results[0].keypoints.xy):\n",
    "        \n",
    "        for  i,keypoint in enumerate(keypoints):\n",
    "            \n",
    "            x3,y3=keypoint\n",
    "        \n",
    "            x3,y3=int(x3),int(y3)\n",
    "            if i==5:\n",
    "                regionList[j][2][0][1]=y3\n",
    "            if i==6:\n",
    "                regionList[j][3][0][1]=y3\n",
    "            \n",
    "       \n",
    "        \n",
    "        \n",
    "        \n",
    "    return regionList"
   ]
  },
  {
   "cell_type": "markdown",
   "id": "2c49d2f8",
   "metadata": {},
   "source": [
    "# Görsel İçin"
   ]
  },
  {
   "cell_type": "markdown",
   "id": "d9379d0e",
   "metadata": {},
   "source": [
    "Buradaki kod ile resimdeki kişilerin o an telefon ile konuşup konuşmadığını bulabilirsiniz. Buradaki telefonların olduğu noktalar ile insanların olduğu bölgeleri kıyaslayarak her bir noktanın her bir bölge içinde olup olmadığına bakıyoruz. Eğer o bölgenin içinde ise inside_region1 değişkenin 1 oluyor."
   ]
  },
  {
   "cell_type": "code",
   "execution_count": 8,
   "id": "f716d800",
   "metadata": {},
   "outputs": [],
   "source": [
    "img=cv2.imread('img.jpg')\n",
    "font = cv2.FONT_HERSHEY_SIMPLEX\n",
    "\n",
    "liste1=telefontespiti(img)\n",
    "liste2=insantespiti(img)\n",
    "\n",
    "\n",
    "for region2 in liste2:\n",
    "    for (x,y) in liste1:\n",
    "        inside_region1=cv2.pointPolygonTest(region2,(x,y),False)\n",
    "        \n",
    "        if inside_region1>0:\n",
    "            \n",
    "            cv2.putText(img, 'Telefon Konusmasi',(region2[0][0][0], region2[0][0][1]-30), font, 5, (0,100,255), 5)\n",
    "            cv2.polylines(img,[region2],True,(0,0,255),15)\n",
    "\n",
    "cv2.imshow(\"kamera\",img)\n",
    "\n",
    "cv2.waitKey()\n",
    "cv2.destroyAllWindows()"
   ]
  },
  {
   "cell_type": "markdown",
   "id": "b2e3e648",
   "metadata": {},
   "source": [
    "# Video İçin"
   ]
  },
  {
   "cell_type": "code",
   "execution_count": 11,
   "id": "bda0f564",
   "metadata": {},
   "outputs": [],
   "source": [
    "kamera= cv2.VideoCapture('video.mp4')\n",
    "\n",
    "font = cv2.FONT_HERSHEY_SIMPLEX\n",
    "\n",
    "\n",
    "while True:\n",
    "\n",
    "   \n",
    "    \n",
    "    ret,kare=kamera.read()\n",
    "    if not ret:\n",
    "        break\n",
    "        \n",
    "    liste1=telefontespiti(kare)\n",
    "    liste2=insantespiti(kare)\n",
    "    \n",
    "    for region2 in liste2:\n",
    "        for (x,y) in liste1:\n",
    "            inside_region1=cv2.pointPolygonTest(region2,(x,y),False)\n",
    "\n",
    "            if inside_region1>0:\n",
    "\n",
    "                cv2.putText(kare, 'Telefon Konusmasi',(region2[0][0][0], region2[0][0][1]-30), font, 3, (255,0,0), 3)\n",
    "                cv2.polylines(kare,[region2],True,(102,0,153),10)\n",
    "    \n",
    "  \n",
    "    \n",
    "    \n",
    "    cv2.imshow(\"kamera\",kare)\n",
    "    if cv2.waitKey(1) & 0xFF == ord('q'):\n",
    "        break\n",
    "kamera.release()\n",
    "cv2.destroyAllWindows()"
   ]
  },
  {
   "cell_type": "code",
   "execution_count": null,
   "id": "f21dd67f",
   "metadata": {},
   "outputs": [],
   "source": []
  }
 ],
 "metadata": {
  "kernelspec": {
   "display_name": "Python 3 (ipykernel)",
   "language": "python",
   "name": "python3"
  },
  "language_info": {
   "codemirror_mode": {
    "name": "ipython",
    "version": 3
   },
   "file_extension": ".py",
   "mimetype": "text/x-python",
   "name": "python",
   "nbconvert_exporter": "python",
   "pygments_lexer": "ipython3",
   "version": "3.9.13"
  }
 },
 "nbformat": 4,
 "nbformat_minor": 5
}
